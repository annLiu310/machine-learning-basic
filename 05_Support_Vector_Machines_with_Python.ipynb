{
  "nbformat": 4,
  "nbformat_minor": 0,
  "metadata": {
    "kernelspec": {
      "display_name": "Python 3",
      "language": "python",
      "name": "python3"
    },
    "language_info": {
      "codemirror_mode": {
        "name": "ipython",
        "version": 3
      },
      "file_extension": ".py",
      "mimetype": "text/x-python",
      "name": "python",
      "nbconvert_exporter": "python",
      "pygments_lexer": "ipython3",
      "version": "3.5.1"
    },
    "colab": {
      "name": "05_Support Vector Machines with Python.ipynb",
      "provenance": [],
      "include_colab_link": true
    }
  },
  "cells": [
    {
      "cell_type": "markdown",
      "metadata": {
        "id": "view-in-github",
        "colab_type": "text"
      },
      "source": [
        "<a href=\"https://colab.research.google.com/github/annLiu310/machine-learning-basic/blob/master/05_Support_Vector_Machines_with_Python.ipynb\" target=\"_parent\"><img src=\"https://colab.research.google.com/assets/colab-badge.svg\" alt=\"Open In Colab\"/></a>"
      ]
    },
    {
      "cell_type": "markdown",
      "metadata": {
        "id": "m8ZjGL9IPct3"
      },
      "source": [
        "___\n",
        "\n",
        "<a href='http://www.pieriandata.com'> <img src='../Pierian_Data_Logo.png' /></a>\n",
        "___\n",
        "# Support Vector Machines with Python\n",
        "\n",
        "Welcome to the Support Vector Machines with Python Lecture Notebook! Remember to refer to the video lecture for the full background information on the code here!\n",
        "\n",
        "## Import Libraries"
      ]
    },
    {
      "cell_type": "code",
      "metadata": {
        "id": "7Hl5srbkPct3"
      },
      "source": [
        "import pandas as pd\n",
        "import numpy as np\n",
        "import matplotlib.pyplot as plt\n",
        "import seaborn as sns\n",
        "%matplotlib inline"
      ],
      "execution_count": 1,
      "outputs": []
    },
    {
      "cell_type": "markdown",
      "metadata": {
        "id": "_VacXC0kPct3"
      },
      "source": [
        "## Get the Data\n",
        "\n",
        "We'll use the built in breast cancer dataset from Scikit Learn. We can get with the load function:"
      ]
    },
    {
      "cell_type": "code",
      "metadata": {
        "id": "A6QOI18MPct3"
      },
      "source": [
        "from sklearn.datasets import load_breast_cancer"
      ],
      "execution_count": 2,
      "outputs": []
    },
    {
      "cell_type": "code",
      "metadata": {
        "id": "jDsQtyWkPct3"
      },
      "source": [
        "cancer = load_breast_cancer()"
      ],
      "execution_count": 3,
      "outputs": []
    },
    {
      "cell_type": "markdown",
      "metadata": {
        "id": "x1O2d9AFPct3"
      },
      "source": [
        "The data set is presented in a dictionary form:"
      ]
    },
    {
      "cell_type": "code",
      "metadata": {
        "colab": {
          "base_uri": "https://localhost:8080/"
        },
        "id": "iy1mi1flPct3",
        "outputId": "b950aff3-57d5-4118-b0da-baaa3899cf73"
      },
      "source": [
        "cancer.keys()"
      ],
      "execution_count": 14,
      "outputs": [
        {
          "output_type": "execute_result",
          "data": {
            "text/plain": [
              "dict_keys(['data', 'target', 'target_names', 'DESCR', 'feature_names', 'filename'])"
            ]
          },
          "metadata": {
            "tags": []
          },
          "execution_count": 14
        }
      ]
    },
    {
      "cell_type": "markdown",
      "metadata": {
        "id": "C5XoTwvJPct4"
      },
      "source": [
        "We can grab information and arrays out of this dictionary to set up our data frame and understanding of the features:"
      ]
    },
    {
      "cell_type": "code",
      "metadata": {
        "id": "nDCiLURBPct4"
      },
      "source": [
        "print(cancer['DESCR'])"
      ],
      "execution_count": null,
      "outputs": []
    },
    {
      "cell_type": "code",
      "metadata": {
        "colab": {
          "base_uri": "https://localhost:8080/"
        },
        "id": "35B3uJCuPct4",
        "outputId": "2e623dde-6cec-47f3-8a89-b18950335353"
      },
      "source": [
        "cancer['feature_names']"
      ],
      "execution_count": 10,
      "outputs": [
        {
          "output_type": "execute_result",
          "data": {
            "text/plain": [
              "array(['mean radius', 'mean texture', 'mean perimeter', 'mean area',\n",
              "       'mean smoothness', 'mean compactness', 'mean concavity',\n",
              "       'mean concave points', 'mean symmetry', 'mean fractal dimension',\n",
              "       'radius error', 'texture error', 'perimeter error', 'area error',\n",
              "       'smoothness error', 'compactness error', 'concavity error',\n",
              "       'concave points error', 'symmetry error',\n",
              "       'fractal dimension error', 'worst radius', 'worst texture',\n",
              "       'worst perimeter', 'worst area', 'worst smoothness',\n",
              "       'worst compactness', 'worst concavity', 'worst concave points',\n",
              "       'worst symmetry', 'worst fractal dimension'], dtype='<U23')"
            ]
          },
          "metadata": {
            "tags": []
          },
          "execution_count": 10
        }
      ]
    },
    {
      "cell_type": "markdown",
      "metadata": {
        "id": "PSZf0zNKPct5"
      },
      "source": [
        "## Set up DataFrame"
      ]
    },
    {
      "cell_type": "code",
      "metadata": {
        "colab": {
          "base_uri": "https://localhost:8080/",
          "height": 254
        },
        "id": "yrN-X6FCPct5",
        "outputId": "76add944-9f01-43ac-e6e5-cb399f8df525"
      },
      "source": [
        "df_feat = pd.DataFrame(cancer['data'],columns=cancer['feature_names'])\n",
        "df_feat.head(5)"
      ],
      "execution_count": 17,
      "outputs": [
        {
          "output_type": "execute_result",
          "data": {
            "text/html": [
              "<div>\n",
              "<style scoped>\n",
              "    .dataframe tbody tr th:only-of-type {\n",
              "        vertical-align: middle;\n",
              "    }\n",
              "\n",
              "    .dataframe tbody tr th {\n",
              "        vertical-align: top;\n",
              "    }\n",
              "\n",
              "    .dataframe thead th {\n",
              "        text-align: right;\n",
              "    }\n",
              "</style>\n",
              "<table border=\"1\" class=\"dataframe\">\n",
              "  <thead>\n",
              "    <tr style=\"text-align: right;\">\n",
              "      <th></th>\n",
              "      <th>mean radius</th>\n",
              "      <th>mean texture</th>\n",
              "      <th>mean perimeter</th>\n",
              "      <th>mean area</th>\n",
              "      <th>mean smoothness</th>\n",
              "      <th>mean compactness</th>\n",
              "      <th>mean concavity</th>\n",
              "      <th>mean concave points</th>\n",
              "      <th>mean symmetry</th>\n",
              "      <th>mean fractal dimension</th>\n",
              "      <th>radius error</th>\n",
              "      <th>texture error</th>\n",
              "      <th>perimeter error</th>\n",
              "      <th>area error</th>\n",
              "      <th>smoothness error</th>\n",
              "      <th>compactness error</th>\n",
              "      <th>concavity error</th>\n",
              "      <th>concave points error</th>\n",
              "      <th>symmetry error</th>\n",
              "      <th>fractal dimension error</th>\n",
              "      <th>worst radius</th>\n",
              "      <th>worst texture</th>\n",
              "      <th>worst perimeter</th>\n",
              "      <th>worst area</th>\n",
              "      <th>worst smoothness</th>\n",
              "      <th>worst compactness</th>\n",
              "      <th>worst concavity</th>\n",
              "      <th>worst concave points</th>\n",
              "      <th>worst symmetry</th>\n",
              "      <th>worst fractal dimension</th>\n",
              "    </tr>\n",
              "  </thead>\n",
              "  <tbody>\n",
              "    <tr>\n",
              "      <th>0</th>\n",
              "      <td>17.99</td>\n",
              "      <td>10.38</td>\n",
              "      <td>122.80</td>\n",
              "      <td>1001.0</td>\n",
              "      <td>0.11840</td>\n",
              "      <td>0.27760</td>\n",
              "      <td>0.3001</td>\n",
              "      <td>0.14710</td>\n",
              "      <td>0.2419</td>\n",
              "      <td>0.07871</td>\n",
              "      <td>1.0950</td>\n",
              "      <td>0.9053</td>\n",
              "      <td>8.589</td>\n",
              "      <td>153.40</td>\n",
              "      <td>0.006399</td>\n",
              "      <td>0.04904</td>\n",
              "      <td>0.05373</td>\n",
              "      <td>0.01587</td>\n",
              "      <td>0.03003</td>\n",
              "      <td>0.006193</td>\n",
              "      <td>25.38</td>\n",
              "      <td>17.33</td>\n",
              "      <td>184.60</td>\n",
              "      <td>2019.0</td>\n",
              "      <td>0.1622</td>\n",
              "      <td>0.6656</td>\n",
              "      <td>0.7119</td>\n",
              "      <td>0.2654</td>\n",
              "      <td>0.4601</td>\n",
              "      <td>0.11890</td>\n",
              "    </tr>\n",
              "    <tr>\n",
              "      <th>1</th>\n",
              "      <td>20.57</td>\n",
              "      <td>17.77</td>\n",
              "      <td>132.90</td>\n",
              "      <td>1326.0</td>\n",
              "      <td>0.08474</td>\n",
              "      <td>0.07864</td>\n",
              "      <td>0.0869</td>\n",
              "      <td>0.07017</td>\n",
              "      <td>0.1812</td>\n",
              "      <td>0.05667</td>\n",
              "      <td>0.5435</td>\n",
              "      <td>0.7339</td>\n",
              "      <td>3.398</td>\n",
              "      <td>74.08</td>\n",
              "      <td>0.005225</td>\n",
              "      <td>0.01308</td>\n",
              "      <td>0.01860</td>\n",
              "      <td>0.01340</td>\n",
              "      <td>0.01389</td>\n",
              "      <td>0.003532</td>\n",
              "      <td>24.99</td>\n",
              "      <td>23.41</td>\n",
              "      <td>158.80</td>\n",
              "      <td>1956.0</td>\n",
              "      <td>0.1238</td>\n",
              "      <td>0.1866</td>\n",
              "      <td>0.2416</td>\n",
              "      <td>0.1860</td>\n",
              "      <td>0.2750</td>\n",
              "      <td>0.08902</td>\n",
              "    </tr>\n",
              "    <tr>\n",
              "      <th>2</th>\n",
              "      <td>19.69</td>\n",
              "      <td>21.25</td>\n",
              "      <td>130.00</td>\n",
              "      <td>1203.0</td>\n",
              "      <td>0.10960</td>\n",
              "      <td>0.15990</td>\n",
              "      <td>0.1974</td>\n",
              "      <td>0.12790</td>\n",
              "      <td>0.2069</td>\n",
              "      <td>0.05999</td>\n",
              "      <td>0.7456</td>\n",
              "      <td>0.7869</td>\n",
              "      <td>4.585</td>\n",
              "      <td>94.03</td>\n",
              "      <td>0.006150</td>\n",
              "      <td>0.04006</td>\n",
              "      <td>0.03832</td>\n",
              "      <td>0.02058</td>\n",
              "      <td>0.02250</td>\n",
              "      <td>0.004571</td>\n",
              "      <td>23.57</td>\n",
              "      <td>25.53</td>\n",
              "      <td>152.50</td>\n",
              "      <td>1709.0</td>\n",
              "      <td>0.1444</td>\n",
              "      <td>0.4245</td>\n",
              "      <td>0.4504</td>\n",
              "      <td>0.2430</td>\n",
              "      <td>0.3613</td>\n",
              "      <td>0.08758</td>\n",
              "    </tr>\n",
              "    <tr>\n",
              "      <th>3</th>\n",
              "      <td>11.42</td>\n",
              "      <td>20.38</td>\n",
              "      <td>77.58</td>\n",
              "      <td>386.1</td>\n",
              "      <td>0.14250</td>\n",
              "      <td>0.28390</td>\n",
              "      <td>0.2414</td>\n",
              "      <td>0.10520</td>\n",
              "      <td>0.2597</td>\n",
              "      <td>0.09744</td>\n",
              "      <td>0.4956</td>\n",
              "      <td>1.1560</td>\n",
              "      <td>3.445</td>\n",
              "      <td>27.23</td>\n",
              "      <td>0.009110</td>\n",
              "      <td>0.07458</td>\n",
              "      <td>0.05661</td>\n",
              "      <td>0.01867</td>\n",
              "      <td>0.05963</td>\n",
              "      <td>0.009208</td>\n",
              "      <td>14.91</td>\n",
              "      <td>26.50</td>\n",
              "      <td>98.87</td>\n",
              "      <td>567.7</td>\n",
              "      <td>0.2098</td>\n",
              "      <td>0.8663</td>\n",
              "      <td>0.6869</td>\n",
              "      <td>0.2575</td>\n",
              "      <td>0.6638</td>\n",
              "      <td>0.17300</td>\n",
              "    </tr>\n",
              "    <tr>\n",
              "      <th>4</th>\n",
              "      <td>20.29</td>\n",
              "      <td>14.34</td>\n",
              "      <td>135.10</td>\n",
              "      <td>1297.0</td>\n",
              "      <td>0.10030</td>\n",
              "      <td>0.13280</td>\n",
              "      <td>0.1980</td>\n",
              "      <td>0.10430</td>\n",
              "      <td>0.1809</td>\n",
              "      <td>0.05883</td>\n",
              "      <td>0.7572</td>\n",
              "      <td>0.7813</td>\n",
              "      <td>5.438</td>\n",
              "      <td>94.44</td>\n",
              "      <td>0.011490</td>\n",
              "      <td>0.02461</td>\n",
              "      <td>0.05688</td>\n",
              "      <td>0.01885</td>\n",
              "      <td>0.01756</td>\n",
              "      <td>0.005115</td>\n",
              "      <td>22.54</td>\n",
              "      <td>16.67</td>\n",
              "      <td>152.20</td>\n",
              "      <td>1575.0</td>\n",
              "      <td>0.1374</td>\n",
              "      <td>0.2050</td>\n",
              "      <td>0.4000</td>\n",
              "      <td>0.1625</td>\n",
              "      <td>0.2364</td>\n",
              "      <td>0.07678</td>\n",
              "    </tr>\n",
              "  </tbody>\n",
              "</table>\n",
              "</div>"
            ],
            "text/plain": [
              "   mean radius  mean texture  ...  worst symmetry  worst fractal dimension\n",
              "0        17.99         10.38  ...          0.4601                  0.11890\n",
              "1        20.57         17.77  ...          0.2750                  0.08902\n",
              "2        19.69         21.25  ...          0.3613                  0.08758\n",
              "3        11.42         20.38  ...          0.6638                  0.17300\n",
              "4        20.29         14.34  ...          0.2364                  0.07678\n",
              "\n",
              "[5 rows x 30 columns]"
            ]
          },
          "metadata": {
            "tags": []
          },
          "execution_count": 17
        }
      ]
    },
    {
      "cell_type": "code",
      "metadata": {
        "colab": {
          "base_uri": "https://localhost:8080/"
        },
        "id": "yj8NY-DeSyvG",
        "outputId": "228d8c4d-12d2-492b-f396-94348e14bf67"
      },
      "source": [
        "df_feat.info()"
      ],
      "execution_count": 18,
      "outputs": [
        {
          "output_type": "stream",
          "text": [
            "<class 'pandas.core.frame.DataFrame'>\n",
            "RangeIndex: 569 entries, 0 to 568\n",
            "Data columns (total 30 columns):\n",
            " #   Column                   Non-Null Count  Dtype  \n",
            "---  ------                   --------------  -----  \n",
            " 0   mean radius              569 non-null    float64\n",
            " 1   mean texture             569 non-null    float64\n",
            " 2   mean perimeter           569 non-null    float64\n",
            " 3   mean area                569 non-null    float64\n",
            " 4   mean smoothness          569 non-null    float64\n",
            " 5   mean compactness         569 non-null    float64\n",
            " 6   mean concavity           569 non-null    float64\n",
            " 7   mean concave points      569 non-null    float64\n",
            " 8   mean symmetry            569 non-null    float64\n",
            " 9   mean fractal dimension   569 non-null    float64\n",
            " 10  radius error             569 non-null    float64\n",
            " 11  texture error            569 non-null    float64\n",
            " 12  perimeter error          569 non-null    float64\n",
            " 13  area error               569 non-null    float64\n",
            " 14  smoothness error         569 non-null    float64\n",
            " 15  compactness error        569 non-null    float64\n",
            " 16  concavity error          569 non-null    float64\n",
            " 17  concave points error     569 non-null    float64\n",
            " 18  symmetry error           569 non-null    float64\n",
            " 19  fractal dimension error  569 non-null    float64\n",
            " 20  worst radius             569 non-null    float64\n",
            " 21  worst texture            569 non-null    float64\n",
            " 22  worst perimeter          569 non-null    float64\n",
            " 23  worst area               569 non-null    float64\n",
            " 24  worst smoothness         569 non-null    float64\n",
            " 25  worst compactness        569 non-null    float64\n",
            " 26  worst concavity          569 non-null    float64\n",
            " 27  worst concave points     569 non-null    float64\n",
            " 28  worst symmetry           569 non-null    float64\n",
            " 29  worst fractal dimension  569 non-null    float64\n",
            "dtypes: float64(30)\n",
            "memory usage: 133.5 KB\n"
          ],
          "name": "stdout"
        }
      ]
    },
    {
      "cell_type": "code",
      "metadata": {
        "colab": {
          "base_uri": "https://localhost:8080/"
        },
        "id": "KuQIRx3aPct5",
        "outputId": "3986e707-63ee-475f-faf5-ec85e712f718"
      },
      "source": [
        "cancer['target_names']"
      ],
      "execution_count": 19,
      "outputs": [
        {
          "output_type": "execute_result",
          "data": {
            "text/plain": [
              "array(['malignant', 'benign'], dtype='<U9')"
            ]
          },
          "metadata": {
            "tags": []
          },
          "execution_count": 19
        }
      ]
    },
    {
      "cell_type": "code",
      "metadata": {
        "colab": {
          "base_uri": "https://localhost:8080/"
        },
        "id": "S9qSpdt4S9G-",
        "outputId": "ece79595-e598-4866-ca64-1e0531e5fc9c"
      },
      "source": [
        "cancer['target']"
      ],
      "execution_count": 20,
      "outputs": [
        {
          "output_type": "execute_result",
          "data": {
            "text/plain": [
              "array([0, 0, 0, 0, 0, 0, 0, 0, 0, 0, 0, 0, 0, 0, 0, 0, 0, 0, 0, 1, 1, 1,\n",
              "       0, 0, 0, 0, 0, 0, 0, 0, 0, 0, 0, 0, 0, 0, 0, 1, 0, 0, 0, 0, 0, 0,\n",
              "       0, 0, 1, 0, 1, 1, 1, 1, 1, 0, 0, 1, 0, 0, 1, 1, 1, 1, 0, 1, 0, 0,\n",
              "       1, 1, 1, 1, 0, 1, 0, 0, 1, 0, 1, 0, 0, 1, 1, 1, 0, 0, 1, 0, 0, 0,\n",
              "       1, 1, 1, 0, 1, 1, 0, 0, 1, 1, 1, 0, 0, 1, 1, 1, 1, 0, 1, 1, 0, 1,\n",
              "       1, 1, 1, 1, 1, 1, 1, 0, 0, 0, 1, 0, 0, 1, 1, 1, 0, 0, 1, 0, 1, 0,\n",
              "       0, 1, 0, 0, 1, 1, 0, 1, 1, 0, 1, 1, 1, 1, 0, 1, 1, 1, 1, 1, 1, 1,\n",
              "       1, 1, 0, 1, 1, 1, 1, 0, 0, 1, 0, 1, 1, 0, 0, 1, 1, 0, 0, 1, 1, 1,\n",
              "       1, 0, 1, 1, 0, 0, 0, 1, 0, 1, 0, 1, 1, 1, 0, 1, 1, 0, 0, 1, 0, 0,\n",
              "       0, 0, 1, 0, 0, 0, 1, 0, 1, 0, 1, 1, 0, 1, 0, 0, 0, 0, 1, 1, 0, 0,\n",
              "       1, 1, 1, 0, 1, 1, 1, 1, 1, 0, 0, 1, 1, 0, 1, 1, 0, 0, 1, 0, 1, 1,\n",
              "       1, 1, 0, 1, 1, 1, 1, 1, 0, 1, 0, 0, 0, 0, 0, 0, 0, 0, 0, 0, 0, 0,\n",
              "       0, 0, 1, 1, 1, 1, 1, 1, 0, 1, 0, 1, 1, 0, 1, 1, 0, 1, 0, 0, 1, 1,\n",
              "       1, 1, 1, 1, 1, 1, 1, 1, 1, 1, 1, 0, 1, 1, 0, 1, 0, 1, 1, 1, 1, 1,\n",
              "       1, 1, 1, 1, 1, 1, 1, 1, 1, 0, 1, 1, 1, 0, 1, 0, 1, 1, 1, 1, 0, 0,\n",
              "       0, 1, 1, 1, 1, 0, 1, 0, 1, 0, 1, 1, 1, 0, 1, 1, 1, 1, 1, 1, 1, 0,\n",
              "       0, 0, 1, 1, 1, 1, 1, 1, 1, 1, 1, 1, 1, 0, 0, 1, 0, 0, 0, 1, 0, 0,\n",
              "       1, 1, 1, 1, 1, 0, 1, 1, 1, 1, 1, 0, 1, 1, 1, 0, 1, 1, 0, 0, 1, 1,\n",
              "       1, 1, 1, 1, 0, 1, 1, 1, 1, 1, 1, 1, 0, 1, 1, 1, 1, 1, 0, 1, 1, 0,\n",
              "       1, 1, 1, 1, 1, 1, 1, 1, 1, 1, 1, 1, 0, 1, 0, 0, 1, 0, 1, 1, 1, 1,\n",
              "       1, 0, 1, 1, 0, 1, 0, 1, 1, 0, 1, 0, 1, 1, 1, 1, 1, 1, 1, 1, 0, 0,\n",
              "       1, 1, 1, 1, 1, 1, 0, 1, 1, 1, 1, 1, 1, 1, 1, 1, 1, 0, 1, 1, 1, 1,\n",
              "       1, 1, 1, 0, 1, 0, 1, 1, 0, 1, 1, 1, 1, 1, 0, 0, 1, 0, 1, 0, 1, 1,\n",
              "       1, 1, 1, 0, 1, 1, 0, 1, 0, 1, 0, 0, 1, 1, 1, 0, 1, 1, 1, 1, 1, 1,\n",
              "       1, 1, 1, 1, 1, 0, 1, 0, 0, 1, 1, 1, 1, 1, 1, 1, 1, 1, 1, 1, 1, 1,\n",
              "       1, 1, 1, 1, 1, 1, 1, 1, 1, 1, 1, 1, 0, 0, 0, 0, 0, 0, 1])"
            ]
          },
          "metadata": {
            "tags": []
          },
          "execution_count": 20
        }
      ]
    },
    {
      "cell_type": "code",
      "metadata": {
        "id": "olmzdvl2Pct5"
      },
      "source": [
        "df_target = pd.DataFrame(cancer['target'],columns=['Cancer'])"
      ],
      "execution_count": 7,
      "outputs": []
    },
    {
      "cell_type": "markdown",
      "metadata": {
        "id": "1qU_g_CzPct5"
      },
      "source": [
        "# Exploratory Data Analysis\n",
        "\n"
      ]
    },
    {
      "cell_type": "markdown",
      "metadata": {
        "id": "pUIc_qIHPct5"
      },
      "source": [
        "## Train Test Split"
      ]
    },
    {
      "cell_type": "code",
      "metadata": {
        "id": "rhoSphbMPct5"
      },
      "source": [
        "from sklearn.model_selection import train_test_split"
      ],
      "execution_count": null,
      "outputs": []
    },
    {
      "cell_type": "code",
      "metadata": {
        "id": "QoB29HpWPct5"
      },
      "source": [
        "X_train, X_test, y_train, y_test = train_test_split(df_feat, np.ravel(df_target), test_size=0.30, random_state=101)"
      ],
      "execution_count": null,
      "outputs": []
    },
    {
      "cell_type": "markdown",
      "metadata": {
        "id": "S0hZUpiDPct5"
      },
      "source": [
        "# Train the Support Vector Classifier"
      ]
    },
    {
      "cell_type": "code",
      "metadata": {
        "id": "Pw6qMkqmPct5"
      },
      "source": [
        "from sklearn.svm import SVC"
      ],
      "execution_count": null,
      "outputs": []
    },
    {
      "cell_type": "code",
      "metadata": {
        "id": "CdrWxZTrPct5"
      },
      "source": [
        "model = SVC()"
      ],
      "execution_count": null,
      "outputs": []
    },
    {
      "cell_type": "code",
      "metadata": {
        "id": "Gm4WsIEUPct5",
        "outputId": "d89e084c-dd7a-4acf-e782-37d793f3a48a"
      },
      "source": [
        "model.fit(X_train,y_train)"
      ],
      "execution_count": null,
      "outputs": [
        {
          "output_type": "execute_result",
          "data": {
            "text/plain": [
              "SVC(C=1.0, cache_size=200, class_weight=None, coef0=0.0,\n",
              "  decision_function_shape=None, degree=3, gamma='auto', kernel='rbf',\n",
              "  max_iter=-1, probability=False, random_state=None, shrinking=True,\n",
              "  tol=0.001, verbose=False)"
            ]
          },
          "metadata": {
            "tags": []
          },
          "execution_count": 61
        }
      ]
    },
    {
      "cell_type": "markdown",
      "metadata": {
        "id": "F_z8FhlRPct5"
      },
      "source": [
        "## Predictions and Evaluations\n",
        "\n",
        "Now let's predict using the trained model."
      ]
    },
    {
      "cell_type": "code",
      "metadata": {
        "colab": {
          "base_uri": "https://localhost:8080/",
          "height": 171
        },
        "id": "V6qCQ0PrPct5",
        "outputId": "809fb491-651e-4fe6-ef4b-81dc3d5bdb8e"
      },
      "source": [
        "predictions = model.predict(X_test)"
      ],
      "execution_count": 22,
      "outputs": [
        {
          "output_type": "error",
          "ename": "NameError",
          "evalue": "ignored",
          "traceback": [
            "\u001b[0;31m---------------------------------------------------------------------------\u001b[0m",
            "\u001b[0;31mNameError\u001b[0m                                 Traceback (most recent call last)",
            "\u001b[0;32m<ipython-input-22-0e147a3957b1>\u001b[0m in \u001b[0;36m<module>\u001b[0;34m()\u001b[0m\n\u001b[0;32m----> 1\u001b[0;31m \u001b[0mpredictions\u001b[0m \u001b[0;34m=\u001b[0m \u001b[0mmodel\u001b[0m\u001b[0;34m.\u001b[0m\u001b[0mpredict\u001b[0m\u001b[0;34m(\u001b[0m\u001b[0mX_test\u001b[0m\u001b[0;34m)\u001b[0m\u001b[0;34m\u001b[0m\u001b[0;34m\u001b[0m\u001b[0m\n\u001b[0m",
            "\u001b[0;31mNameError\u001b[0m: name 'model' is not defined"
          ]
        }
      ]
    },
    {
      "cell_type": "code",
      "metadata": {
        "id": "qbwnIxUKPct5"
      },
      "source": [
        "from sklearn.metrics import classification_report,confusion_matrix"
      ],
      "execution_count": null,
      "outputs": []
    },
    {
      "cell_type": "code",
      "metadata": {
        "colab": {
          "base_uri": "https://localhost:8080/",
          "height": 171
        },
        "id": "_5GCul0kPct5",
        "outputId": "eb20d5f3-3a9f-4775-bc5f-302318ac19e0"
      },
      "source": [
        "print(confusion_matrix(y_test,predictions))"
      ],
      "execution_count": 21,
      "outputs": [
        {
          "output_type": "error",
          "ename": "NameError",
          "evalue": "ignored",
          "traceback": [
            "\u001b[0;31m---------------------------------------------------------------------------\u001b[0m",
            "\u001b[0;31mNameError\u001b[0m                                 Traceback (most recent call last)",
            "\u001b[0;32m<ipython-input-21-f1be5ccd6a4e>\u001b[0m in \u001b[0;36m<module>\u001b[0;34m()\u001b[0m\n\u001b[0;32m----> 1\u001b[0;31m \u001b[0mprint\u001b[0m\u001b[0;34m(\u001b[0m\u001b[0mconfusion_matrix\u001b[0m\u001b[0;34m(\u001b[0m\u001b[0my_test\u001b[0m\u001b[0;34m,\u001b[0m\u001b[0mpredictions\u001b[0m\u001b[0;34m)\u001b[0m\u001b[0;34m)\u001b[0m\u001b[0;34m\u001b[0m\u001b[0;34m\u001b[0m\u001b[0m\n\u001b[0m",
            "\u001b[0;31mNameError\u001b[0m: name 'confusion_matrix' is not defined"
          ]
        }
      ]
    },
    {
      "cell_type": "code",
      "metadata": {
        "id": "gYNnVG-rPct5",
        "outputId": "57d0eafe-66e9-4d4e-b4ea-4c60b045f945"
      },
      "source": [
        "print(classification_report(y_test,predictions))"
      ],
      "execution_count": null,
      "outputs": [
        {
          "output_type": "stream",
          "text": [
            "             precision    recall  f1-score   support\n",
            "\n",
            "          0       0.00      0.00      0.00        66\n",
            "          1       0.61      1.00      0.76       105\n",
            "\n",
            "avg / total       0.38      0.61      0.47       171\n",
            "\n"
          ],
          "name": "stdout"
        },
        {
          "output_type": "stream",
          "text": [
            "/Users/marci/anaconda/lib/python3.5/site-packages/sklearn/metrics/classification.py:1074: UndefinedMetricWarning: Precision and F-score are ill-defined and being set to 0.0 in labels with no predicted samples.\n",
            "  'precision', 'predicted', average, warn_for)\n"
          ],
          "name": "stderr"
        }
      ]
    },
    {
      "cell_type": "markdown",
      "metadata": {
        "id": "iDj_NemmPct5"
      },
      "source": [
        "Woah! Notice that we are classifying everything into a single class! This means our model needs to have it parameters adjusted (it may also help to normalize the data).\n",
        "\n",
        "We can search for parameters using a GridSearch!"
      ]
    },
    {
      "cell_type": "markdown",
      "metadata": {
        "id": "WFJi1hLIPct5"
      },
      "source": [
        "# Gridsearch\n",
        "\n",
        "Finding the right parameters (like what C or gamma values to use) is a tricky task. \n",
        "\n",
        "But luckily, we can be a little lazy and just try a bunch of combinations and see what works best! This idea of creating a 'grid' of parameters and just trying out all the possible combinations is called a Gridsearch, this method is common enough that Scikit-learn has this functionality built in with GridSearchCV. The CV stands for cross-validation which is the\n",
        "\n",
        "GridSearchCV takes a dictionary that describes the parameters that should be tried and a model to train. The grid of parameters is defined as a dictionary, where the keys are the parameters and the values are the settings to be tested. "
      ]
    },
    {
      "cell_type": "code",
      "metadata": {
        "id": "E1oDdGXCPct5"
      },
      "source": [
        "param_grid = {'C': [0.1,1, 10, 100, 1000], 'gamma': [1,0.1,0.01,0.001,0.0001], 'kernel': ['rbf']} "
      ],
      "execution_count": null,
      "outputs": []
    },
    {
      "cell_type": "code",
      "metadata": {
        "id": "DL9s_OQAPct5"
      },
      "source": [
        "from sklearn.model_selection import GridSearchCV"
      ],
      "execution_count": null,
      "outputs": []
    },
    {
      "cell_type": "markdown",
      "metadata": {
        "id": "616oKCCEPct5"
      },
      "source": [
        "One of the great things about GridSearchCV is that it is a meta-estimator. It takes an estimator like SVC, and creates a new estimator, that behaves exactly the same - in this case, like a classifier. You should add refit=True and choose verbose to whatever number you want, higher the number, the more verbose (verbose just means the text output describing the process)."
      ]
    },
    {
      "cell_type": "code",
      "metadata": {
        "id": "vn2p6HK6Pct5"
      },
      "source": [
        "grid = GridSearchCV(SVC(),param_grid,refit=True,verbose=3)"
      ],
      "execution_count": null,
      "outputs": []
    },
    {
      "cell_type": "markdown",
      "metadata": {
        "id": "qqfk0_0_Pct6"
      },
      "source": [
        "What fit does is a bit more involved then usual. First, it runs the same loop with cross-validation, to find the best parameter combination. Once it has the best combination, it runs fit again on all data passed to fit (without cross-validation), to built a single new model using the best parameter setting."
      ]
    },
    {
      "cell_type": "code",
      "metadata": {
        "id": "U_R7Yk6LPct6",
        "outputId": "39d04aa3-6c38-4c0c-e572-7ceec78f4a4e"
      },
      "source": [
        "# May take awhile!\n",
        "grid.fit(X_train,y_train)"
      ],
      "execution_count": null,
      "outputs": [
        {
          "output_type": "stream",
          "text": [
            "Fitting 3 folds for each of 25 candidates, totalling 75 fits\n",
            "[CV] gamma=1, C=0.1, kernel=rbf ......................................\n",
            "[CV] ............. gamma=1, C=0.1, kernel=rbf, score=0.631579 -   0.0s\n",
            "[CV] gamma=1, C=0.1, kernel=rbf ......................................\n",
            "[CV] ............. gamma=1, C=0.1, kernel=rbf, score=0.631579 -   0.0s\n",
            "[CV] gamma=1, C=0.1, kernel=rbf ......................................\n",
            "[CV] ............. gamma=1, C=0.1, kernel=rbf, score=0.636364 -   0.0s\n",
            "[CV] gamma=0.1, C=0.1, kernel=rbf ....................................\n",
            "[CV] ........... gamma=0.1, C=0.1, kernel=rbf, score=0.631579 -   0.0s\n",
            "[CV] gamma=0.1, C=0.1, kernel=rbf ....................................\n",
            "[CV] ........... gamma=0.1, C=0.1, kernel=rbf, score=0.631579 -   0.0s\n",
            "[CV] gamma=0.1, C=0.1, kernel=rbf ....................................\n",
            "[CV] ........... gamma=0.1, C=0.1, kernel=rbf, score=0.636364 -   0.0s\n",
            "[CV] gamma=0.01, C=0.1, kernel=rbf ...................................\n",
            "[CV] .......... gamma=0.01, C=0.1, kernel=rbf, score=0.631579 -   0.0s\n",
            "[CV] gamma=0.01, C=0.1, kernel=rbf ...................................\n",
            "[CV] .......... gamma=0.01, C=0.1, kernel=rbf, score=0.631579 -   0.0s\n",
            "[CV] gamma=0.01, C=0.1, kernel=rbf ...................................\n",
            "[CV] .......... gamma=0.01, C=0.1, kernel=rbf, score=0.636364 -   0.0s\n",
            "[CV] gamma=0.001, C=0.1, kernel=rbf ..................................\n",
            "[CV] ......... gamma=0.001, C=0.1, kernel=rbf, score=0.631579 -   0.0s\n",
            "[CV] gamma=0.001, C=0.1, kernel=rbf ..................................\n",
            "[CV] ......... gamma=0.001, C=0.1, kernel=rbf, score=0.631579 -   0.0s\n",
            "[CV] gamma=0.001, C=0.1, kernel=rbf ..................................\n",
            "[CV] ......... gamma=0.001, C=0.1, kernel=rbf, score=0.636364 -   0.0s\n",
            "[CV] gamma=0.0001, C=0.1, kernel=rbf .................................\n",
            "[CV] ........ gamma=0.0001, C=0.1, kernel=rbf, score=0.902256 -   0.0s\n",
            "[CV] gamma=0.0001, C=0.1, kernel=rbf .................................\n",
            "[CV] ........ gamma=0.0001, C=0.1, kernel=rbf, score=0.962406 -   0.0s\n",
            "[CV] gamma=0.0001, C=0.1, kernel=rbf .................................\n",
            "[CV] ........ gamma=0.0001, C=0.1, kernel=rbf, score=0.916667 -   0.0s\n",
            "[CV] gamma=1, C=1, kernel=rbf ........................................\n",
            "[CV] ............... gamma=1, C=1, kernel=rbf, score=0.631579 -   0.0s\n",
            "[CV] gamma=1, C=1, kernel=rbf ........................................\n",
            "[CV] ............... gamma=1, C=1, kernel=rbf, score=0.631579 -   0.0s\n",
            "[CV] gamma=1, C=1, kernel=rbf ........................................\n",
            "[CV] ............... gamma=1, C=1, kernel=rbf, score=0.636364 -   0.0s\n",
            "[CV] gamma=0.1, C=1, kernel=rbf ......................................\n",
            "[CV] ............. gamma=0.1, C=1, kernel=rbf, score=0.631579 -   0.0s\n",
            "[CV] gamma=0.1, C=1, kernel=rbf ......................................\n",
            "[CV] ............. gamma=0.1, C=1, kernel=rbf, score=0.631579 -   0.0s\n",
            "[CV] gamma=0.1, C=1, kernel=rbf ......................................\n",
            "[CV] ............. gamma=0.1, C=1, kernel=rbf, score=0.636364 -   0.0s\n",
            "[CV] gamma=0.01, C=1, kernel=rbf .....................................\n",
            "[CV] ............ gamma=0.01, C=1, kernel=rbf, score=0.631579 -   0.0s\n",
            "[CV] gamma=0.01, C=1, kernel=rbf .....................................\n",
            "[CV] ............ gamma=0.01, C=1, kernel=rbf, score=0.631579 -   0.0s\n",
            "[CV] gamma=0.01, C=1, kernel=rbf .....................................\n",
            "[CV] ............ gamma=0.01, C=1, kernel=rbf, score=0.636364 -   0.0s\n",
            "[CV] gamma=0.001, C=1, kernel=rbf ....................................\n",
            "[CV] ........... gamma=0.001, C=1, kernel=rbf, score=0.902256 -   0.0s\n",
            "[CV] gamma=0.001, C=1, kernel=rbf ....................................\n",
            "[CV] ........... gamma=0.001, C=1, kernel=rbf, score=0.939850 -   0.0s\n",
            "[CV] gamma=0.001, C=1, kernel=rbf ....................................\n",
            "[CV] ........... gamma=0.001, C=1, kernel=rbf, score=0.954545 -   0.0s\n",
            "[CV] gamma=0.0001, C=1, kernel=rbf ...................................\n",
            "[CV] .......... gamma=0.0001, C=1, kernel=rbf, score=0.939850 -   0.0s\n",
            "[CV] gamma=0.0001, C=1, kernel=rbf ...................................\n",
            "[CV] .......... gamma=0.0001, C=1, kernel=rbf, score=0.969925 -   0.0s\n",
            "[CV] gamma=0.0001, C=1, kernel=rbf ...................................\n",
            "[CV] .......... gamma=0.0001, C=1, kernel=rbf, score=0.946970 -   0.0s\n",
            "[CV] gamma=1, C=10, kernel=rbf .......................................\n",
            "[CV] .............. gamma=1, C=10, kernel=rbf, score=0.631579 -   0.0s\n",
            "[CV] gamma=1, C=10, kernel=rbf .......................................\n",
            "[CV] .............. gamma=1, C=10, kernel=rbf, score=0.631579 -   0.0s\n",
            "[CV] gamma=1, C=10, kernel=rbf .......................................\n",
            "[CV] .............. gamma=1, C=10, kernel=rbf, score=0.636364 -   0.0s\n",
            "[CV] gamma=0.1, C=10, kernel=rbf .....................................\n",
            "[CV] ............ gamma=0.1, C=10, kernel=rbf, score=0.631579 -   0.0s\n",
            "[CV] gamma=0.1, C=10, kernel=rbf .....................................\n",
            "[CV] ............ gamma=0.1, C=10, kernel=rbf, score=0.631579 -   0.0s\n",
            "[CV] gamma=0.1, C=10, kernel=rbf .....................................\n",
            "[CV] ............ gamma=0.1, C=10, kernel=rbf, score=0.636364 -   0.0s\n",
            "[CV] gamma=0.01, C=10, kernel=rbf ....................................\n",
            "[CV] ........... gamma=0.01, C=10, kernel=rbf, score=0.631579 -   0.0s\n",
            "[CV] gamma=0.01, C=10, kernel=rbf ....................................\n",
            "[CV] ........... gamma=0.01, C=10, kernel=rbf, score=0.631579 -   0.0s\n",
            "[CV] gamma=0.01, C=10, kernel=rbf ....................................\n",
            "[CV] ........... gamma=0.01, C=10, kernel=rbf, score=0.636364 -   0.0s\n",
            "[CV] gamma=0.001, C=10, kernel=rbf ...................................\n",
            "[CV] .......... gamma=0.001, C=10, kernel=rbf, score=0.894737 -   0.0s\n",
            "[CV] gamma=0.001, C=10, kernel=rbf ...................................\n",
            "[CV] .......... gamma=0.001, C=10, kernel=rbf, score=0.932331 -   0.0s\n",
            "[CV] gamma=0.001, C=10, kernel=rbf ...................................\n",
            "[CV] .......... gamma=0.001, C=10, kernel=rbf, score=0.916667 -   0.0s\n",
            "[CV] gamma=0.0001, C=10, kernel=rbf ..................................\n",
            "[CV] ......... gamma=0.0001, C=10, kernel=rbf, score=0.932331 -   0.0s\n",
            "[CV] gamma=0.0001, C=10, kernel=rbf ..................................\n",
            "[CV] ......... gamma=0.0001, C=10, kernel=rbf, score=0.969925 -   0.0s\n",
            "[CV] gamma=0.0001, C=10, kernel=rbf ..................................\n",
            "[CV] ......... gamma=0.0001, C=10, kernel=rbf, score=0.962121 -   0.0s\n",
            "[CV] gamma=1, C=100, kernel=rbf ......................................\n",
            "[CV] ............. gamma=1, C=100, kernel=rbf, score=0.631579 -   0.0s\n",
            "[CV] gamma=1, C=100, kernel=rbf ......................................\n",
            "[CV] ............. gamma=1, C=100, kernel=rbf, score=0.631579 -   0.0s\n",
            "[CV] gamma=1, C=100, kernel=rbf ......................................\n",
            "[CV] ............. gamma=1, C=100, kernel=rbf, score=0.636364 -   0.0s\n",
            "[CV] gamma=0.1, C=100, kernel=rbf ....................................\n",
            "[CV] ........... gamma=0.1, C=100, kernel=rbf, score=0.631579 -   0.0s\n",
            "[CV] gamma=0.1, C=100, kernel=rbf ....................................\n",
            "[CV] ........... gamma=0.1, C=100, kernel=rbf, score=0.631579 -   0.0s\n",
            "[CV] gamma=0.1, C=100, kernel=rbf ....................................\n",
            "[CV] ........... gamma=0.1, C=100, kernel=rbf, score=0.636364 -   0.0s\n",
            "[CV] gamma=0.01, C=100, kernel=rbf ...................................\n",
            "[CV] .......... gamma=0.01, C=100, kernel=rbf, score=0.631579 -   0.0s\n",
            "[CV] gamma=0.01, C=100, kernel=rbf ...................................\n",
            "[CV] .......... gamma=0.01, C=100, kernel=rbf, score=0.631579 -   0.0s\n",
            "[CV] gamma=0.01, C=100, kernel=rbf ...................................\n",
            "[CV] .......... gamma=0.01, C=100, kernel=rbf, score=0.636364 -   0.0s\n",
            "[CV] gamma=0.001, C=100, kernel=rbf ..................................\n",
            "[CV] ......... gamma=0.001, C=100, kernel=rbf, score=0.894737 -   0.0s\n",
            "[CV] gamma=0.001, C=100, kernel=rbf ..................................\n",
            "[CV] ......... gamma=0.001, C=100, kernel=rbf, score=0.932331 -   0.0s\n",
            "[CV] gamma=0.001, C=100, kernel=rbf ..................................\n",
            "[CV] ......... gamma=0.001, C=100, kernel=rbf, score=0.916667 -   0.0s\n",
            "[CV] gamma=0.0001, C=100, kernel=rbf .................................\n",
            "[CV] ........ gamma=0.0001, C=100, kernel=rbf, score=0.917293 -   0.0s\n",
            "[CV] gamma=0.0001, C=100, kernel=rbf .................................\n",
            "[CV] ........ gamma=0.0001, C=100, kernel=rbf, score=0.977444 -   0.0s\n",
            "[CV] gamma=0.0001, C=100, kernel=rbf .................................\n",
            "[CV] ........ gamma=0.0001, C=100, kernel=rbf, score=0.939394 -   0.0s\n",
            "[CV] gamma=1, C=1000, kernel=rbf .....................................\n",
            "[CV] ............ gamma=1, C=1000, kernel=rbf, score=0.631579 -   0.0s\n",
            "[CV] gamma=1, C=1000, kernel=rbf .....................................\n",
            "[CV] ............ gamma=1, C=1000, kernel=rbf, score=0.631579 -   0.0s\n",
            "[CV] gamma=1, C=1000, kernel=rbf .....................................\n",
            "[CV] ............ gamma=1, C=1000, kernel=rbf, score=0.636364 -   0.0s\n",
            "[CV] gamma=0.1, C=1000, kernel=rbf ...................................\n",
            "[CV] .......... gamma=0.1, C=1000, kernel=rbf, score=0.631579 -   0.0s\n",
            "[CV] gamma=0.1, C=1000, kernel=rbf ...................................\n",
            "[CV] .......... gamma=0.1, C=1000, kernel=rbf, score=0.631579 -   0.0s\n",
            "[CV] gamma=0.1, C=1000, kernel=rbf ...................................\n",
            "[CV] .......... gamma=0.1, C=1000, kernel=rbf, score=0.636364 -   0.0s\n",
            "[CV] gamma=0.01, C=1000, kernel=rbf ..................................\n",
            "[CV] ......... gamma=0.01, C=1000, kernel=rbf, score=0.631579 -   0.0s\n",
            "[CV] gamma=0.01, C=1000, kernel=rbf ..................................\n",
            "[CV] ......... gamma=0.01, C=1000, kernel=rbf, score=0.631579 -   0.0s\n",
            "[CV] gamma=0.01, C=1000, kernel=rbf ..................................\n",
            "[CV] ......... gamma=0.01, C=1000, kernel=rbf, score=0.636364 -   0.0s\n",
            "[CV] gamma=0.001, C=1000, kernel=rbf .................................\n",
            "[CV] ........ gamma=0.001, C=1000, kernel=rbf, score=0.894737 -   0.0s\n",
            "[CV] gamma=0.001, C=1000, kernel=rbf .................................\n",
            "[CV] ........ gamma=0.001, C=1000, kernel=rbf, score=0.932331 -   0.0s\n",
            "[CV] gamma=0.001, C=1000, kernel=rbf .................................\n",
            "[CV] ........ gamma=0.001, C=1000, kernel=rbf, score=0.916667 -   0.0s"
          ],
          "name": "stdout"
        },
        {
          "output_type": "stream",
          "text": [
            "[Parallel(n_jobs=1)]: Done  31 tasks       | elapsed:    0.3s\n",
            "[Parallel(n_jobs=1)]: Done  75 out of  75 | elapsed:    0.8s finished\n"
          ],
          "name": "stderr"
        },
        {
          "output_type": "stream",
          "text": [
            "\n",
            "[CV] gamma=0.0001, C=1000, kernel=rbf ................................\n",
            "[CV] ....... gamma=0.0001, C=1000, kernel=rbf, score=0.909774 -   0.0s\n",
            "[CV] gamma=0.0001, C=1000, kernel=rbf ................................\n",
            "[CV] ....... gamma=0.0001, C=1000, kernel=rbf, score=0.969925 -   0.0s\n",
            "[CV] gamma=0.0001, C=1000, kernel=rbf ................................\n",
            "[CV] ....... gamma=0.0001, C=1000, kernel=rbf, score=0.931818 -   0.0s\n"
          ],
          "name": "stdout"
        },
        {
          "output_type": "execute_result",
          "data": {
            "text/plain": [
              "GridSearchCV(cv=None, error_score='raise',\n",
              "       estimator=SVC(C=1.0, cache_size=200, class_weight=None, coef0=0.0,\n",
              "  decision_function_shape=None, degree=3, gamma='auto', kernel='rbf',\n",
              "  max_iter=-1, probability=False, random_state=None, shrinking=True,\n",
              "  tol=0.001, verbose=False),\n",
              "       fit_params={}, iid=True, n_jobs=1,\n",
              "       param_grid={'gamma': [1, 0.1, 0.01, 0.001, 0.0001], 'C': [0.1, 1, 10, 100, 1000], 'kernel': ['rbf']},\n",
              "       pre_dispatch='2*n_jobs', refit=True, scoring=None, verbose=3)"
            ]
          },
          "metadata": {
            "tags": []
          },
          "execution_count": 40
        }
      ]
    },
    {
      "cell_type": "markdown",
      "metadata": {
        "id": "cIn-ewD8Pct6"
      },
      "source": [
        "You can inspect the best parameters found by GridSearchCV in the best_params_ attribute, and the best estimator in the best\\_estimator_ attribute:"
      ]
    },
    {
      "cell_type": "code",
      "metadata": {
        "id": "xaW-p3HuPct6",
        "outputId": "3b2ff215-bfbd-41d5-8073-ffacdc2e9037"
      },
      "source": [
        "grid.best_params_"
      ],
      "execution_count": null,
      "outputs": [
        {
          "output_type": "execute_result",
          "data": {
            "text/plain": [
              "{'C': 10, 'gamma': 0.0001, 'kernel': 'rbf'}"
            ]
          },
          "metadata": {
            "tags": []
          },
          "execution_count": 41
        }
      ]
    },
    {
      "cell_type": "code",
      "metadata": {
        "id": "s2_2K5IXPct6"
      },
      "source": [
        "grid.best_estimator_"
      ],
      "execution_count": null,
      "outputs": []
    },
    {
      "cell_type": "markdown",
      "metadata": {
        "id": "BEudDb0GPct6"
      },
      "source": [
        "Then you can re-run predictions on this grid object just like you would with a normal model."
      ]
    },
    {
      "cell_type": "code",
      "metadata": {
        "id": "AB-N-Gk1Pct6"
      },
      "source": [
        "grid_predictions = grid.predict(X_test)"
      ],
      "execution_count": null,
      "outputs": []
    },
    {
      "cell_type": "code",
      "metadata": {
        "id": "99zhEwxoPct6",
        "outputId": "4db7fdfb-aae8-4ca8-9bec-304ba675b5d5"
      },
      "source": [
        "print(confusion_matrix(y_test,grid_predictions))"
      ],
      "execution_count": null,
      "outputs": [
        {
          "output_type": "stream",
          "text": [
            "[[ 60   6]\n",
            " [  3 102]]\n"
          ],
          "name": "stdout"
        }
      ]
    },
    {
      "cell_type": "code",
      "metadata": {
        "id": "eIoe6dWGPct6",
        "outputId": "485ef8e9-3a31-4749-94e6-b5a469272f96"
      },
      "source": [
        "print(classification_report(y_test,grid_predictions))"
      ],
      "execution_count": null,
      "outputs": [
        {
          "output_type": "stream",
          "text": [
            "             precision    recall  f1-score   support\n",
            "\n",
            "          0       0.95      0.91      0.93        66\n",
            "          1       0.94      0.97      0.96       105\n",
            "\n",
            "avg / total       0.95      0.95      0.95       171\n",
            "\n"
          ],
          "name": "stdout"
        }
      ]
    },
    {
      "cell_type": "markdown",
      "metadata": {
        "id": "Q5Qze-HxPct6"
      },
      "source": [
        "# Great job!"
      ]
    }
  ]
}